{
  "nbformat": 4,
  "nbformat_minor": 0,
  "metadata": {
    "colab": {
      "provenance": []
    },
    "kernelspec": {
      "name": "python3",
      "display_name": "Python 3"
    },
    "language_info": {
      "name": "python"
    }
  },
  "cells": [
    {
      "cell_type": "code",
      "source": [
        "from google.colab import drive\n",
        "\n",
        "# This will prompt for authorization.\n",
        "drive.mount('/content/drive')\n",
        "\n",
        "%cd\n",
        "!apt-get install openjdk-8-jdk-headless -qq > /dev/null # installing java\n",
        "!tar -xzf \"/content/drive/My Drive/Big_Data/data/spark/spark-3.2.0-bin-hadoop2.7.tgz\" # unpacking \n",
        "import os # Python package for interaction with the operating system\n",
        "os.environ[\"JAVA_HOME\"] = \"/usr/lib/jvm/java-8-openjdk-amd64\" # tell the system where Java lives\n",
        "os.environ[\"SPARK_HOME\"] = \"/root/spark-3.2.0-bin-hadoop2.7\" # and where spark lives\n",
        "!pip install -q findspark # install helper package\n",
        "import findspark # use the helper package\n",
        "findspark.init() # to set up spark\n",
        "%cd \"/content/drive/My Drive/Big_Data\" \n",
        "\n",
        "\n",
        "import pyspark\n",
        "# get a spark context\n",
        "sc = pyspark.SparkContext.getOrCreate()\n",
        "print(sc)\n",
        "# get the context\n",
        "spark = pyspark.sql.SparkSession.builder.getOrCreate()\n",
        "print(spark) \n",
        "filepath = \"/content/drive/My Drive/inputfin.txt\""
      ],
      "metadata": {
        "colab": {
          "base_uri": "https://localhost:8080/"
        },
        "id": "ECOV5DLaZQmF",
        "outputId": "9c839c8a-fc0e-417f-c761-ac41e2050cf9"
      },
      "execution_count": 1,
      "outputs": [
        {
          "output_type": "stream",
          "name": "stdout",
          "text": [
            "Mounted at /content/drive\n",
            "/root\n",
            "/content/drive/.shortcut-targets-by-id/10ijQ0eE11e3MwBmUKbK5TXTdvKIqsjXZ/Big_Data\n",
            "<SparkContext master=local[*] appName=pyspark-shell>\n",
            "<pyspark.sql.session.SparkSession object at 0x7fa2cb076dc0>\n"
          ]
        }
      ]
    },
    {
      "cell_type": "code",
      "source": [
        "rucksacksRDD = sc.textFile(filepath)\n",
        "rucksackRDD2 = rucksacksRDD.map(lambda x: x.split(','))\n",
        "\n",
        "def splitter(s):\n",
        "    half, rem = divmod(len(s), 2)\n",
        "    return s[:half + rem], s[half + rem:]\n"
      ],
      "metadata": {
        "id": "5cmn_42r8MgW"
      },
      "execution_count": 3,
      "outputs": []
    },
    {
      "cell_type": "code",
      "source": [
        "rucksInHalf = rucksacksRDD.map(splitter)\n",
        "rucksInHalf.take(5)"
      ],
      "metadata": {
        "id": "1YRfQO_y8YL6"
      },
      "execution_count": null,
      "outputs": []
    },
    {
      "cell_type": "code",
      "source": [
        "def share2(input):\n",
        "  st1, st2, st3 = input\n",
        "  s1 = set(st1)\n",
        "  s2 = set(st2)\n",
        "  s3 = set(st3)\n",
        "  commonchar = s1 & s2 & s3\n",
        "  return (list(commonchar)).pop() #returns set, changed to list (with a char), pop that list"
      ],
      "metadata": {
        "id": "Rd1E8qVJ9eap"
      },
      "execution_count": 5,
      "outputs": []
    },
    {
      "cell_type": "code",
      "source": [
        "import string\n",
        "alphabet = list(string.ascii_lowercase)\n",
        "ALPHABET = list(string.ascii_uppercase)\n",
        "myaplh = alphabet + ALPHABET\n",
        "paralph = sc.parallelize(myaplh)\n",
        "intalph = range(1,53)\n",
        "newalph = zip(myaplh, intalph)\n",
        "newalph2 = sc.parallelize(list(newalph))\n",
        "newalph2.collect()"
      ],
      "metadata": {
        "id": "oIYMjQbqDrcr"
      },
      "execution_count": null,
      "outputs": []
    },
    {
      "cell_type": "code",
      "source": [
        "mydict = {}\n",
        "mydict[\"a\"] = 1\n",
        "mydict[\"b\"] = 2\n",
        "mydict[\"c\"] = 3\n",
        "mydict[\"d\"] = 4\n",
        "mydict[\"e\"] = 5\n",
        "mydict[\"f\"] = 6\n",
        "mydict[\"g\"] = 7\n",
        "mydict[\"h\"] = 8\n",
        "mydict[\"i\"] = 9\n",
        "mydict[\"j\"] = 10\n",
        "mydict[\"k\"] = 11\n",
        "mydict[\"l\"] = 12\n",
        "mydict[\"m\"] = 13\n",
        "mydict[\"n\"] = 14\n",
        "mydict[\"o\"] = 15\n",
        "mydict[\"p\"] = 16\n",
        "mydict[\"q\"] = 17\n",
        "mydict[\"r\"] = 18\n",
        "mydict[\"s\"] = 19\n",
        "mydict[\"t\"] = 20\n",
        "mydict[\"u\"] = 21\n",
        "mydict[\"v\"] = 22\n",
        "mydict[\"w\"] = 23\n",
        "mydict[\"x\"] = 24\n",
        "mydict[\"y\"] = 25\n",
        "mydict[\"z\"] = 26\n",
        "mydict[\"A\"] = 27\n",
        "mydict[\"B\"] = 28\n",
        "mydict[\"C\"] = 29\n",
        "mydict[\"D\"] = 30\n",
        "mydict[\"E\"] = 31\n",
        "mydict[\"F\"] = 32\n",
        "mydict[\"G\"] = 33\n",
        "mydict[\"H\"] = 34\n",
        "mydict[\"I\"] = 35\n",
        "mydict[\"J\"] = 36\n",
        "mydict[\"K\"] = 37\n",
        "mydict[\"L\"] = 38\n",
        "mydict[\"M\"] = 39\n",
        "mydict[\"N\"] = 40\n",
        "mydict[\"O\"] = 41\n",
        "mydict[\"P\"] = 42\n",
        "mydict[\"Q\"] = 43\n",
        "mydict[\"R\"] = 44\n",
        "mydict[\"S\"] = 45\n",
        "mydict[\"T\"] = 46\n",
        "mydict[\"U\"] = 47\n",
        "mydict[\"V\"] = 48\n",
        "mydict[\"W\"] = 49\n",
        "mydict[\"X\"] = 50\n",
        "mydict[\"Y\"] = 51\n",
        "mydict[\"Z\"] = 52"
      ],
      "metadata": {
        "id": "ZIpagcAjOeWJ"
      },
      "execution_count": 8,
      "outputs": []
    },
    {
      "cell_type": "code",
      "source": [
        "ruckSimilar = rucksackRDD2.map(share2)\n",
        "ruck_of_INT = ruckSimilar.map(lambda x: mydict.get(x))\n",
        "ruck_of_INT.sum()"
      ],
      "metadata": {
        "colab": {
          "base_uri": "https://localhost:8080/"
        },
        "id": "fXLTcLZV-M4l",
        "outputId": "570c6b87-4f3e-4791-904e-57fc08ddd69a"
      },
      "execution_count": 9,
      "outputs": [
        {
          "output_type": "execute_result",
          "data": {
            "text/plain": [
              "2548"
            ]
          },
          "metadata": {},
          "execution_count": 9
        }
      ]
    }
  ]
}